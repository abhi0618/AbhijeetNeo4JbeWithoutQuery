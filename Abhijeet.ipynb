{
 "cells": [
  {
   "cell_type": "code",
   "execution_count": 6,
   "id": "04f3bf4d",
   "metadata": {},
   "outputs": [],
   "source": [
    "from neo4j import GraphDatabase\n",
    "#Establish Connection\n",
    "driver=GraphDatabase.driver(uri=\"bolt://localhost:7687\",auth=(\"neo4j\",\"jbedbms\"))\n",
    "session=driver.session()"
   ]
  },
  {
   "cell_type": "code",
   "execution_count": 2,
   "id": "b3341408",
   "metadata": {},
   "outputs": [
    {
     "name": "stdout",
     "output_type": "stream",
     "text": [
      "Using pip 21.0.1 from C:\\ProgramData\\Anaconda3\\lib\\site-packages\\pip (python 3.8)\n",
      "Non-user install because site-packages writeable\n",
      "Created temporary directory: C:\\Users\\Abhi0618\\AppData\\Local\\Temp\\pip-ephem-wheel-cache-nhon0ij0\n",
      "Created temporary directory: C:\\Users\\Abhi0618\\AppData\\Local\\Temp\\pip-req-tracker-mufqmcea\n",
      "Initialized build tracking at C:\\Users\\Abhi0618\\AppData\\Local\\Temp\\pip-req-tracker-mufqmcea\n",
      "Created build tracker: C:\\Users\\Abhi0618\\AppData\\Local\\Temp\\pip-req-tracker-mufqmcea\n",
      "Entered build tracker: C:\\Users\\Abhi0618\\AppData\\Local\\Temp\\pip-req-tracker-mufqmcea\n",
      "Created temporary directory: C:\\Users\\Abhi0618\\AppData\\Local\\Temp\\pip-install-flfkhgga\n",
      "Exception information:\n",
      "Traceback (most recent call last):\n",
      "  File \"C:\\ProgramData\\Anaconda3\\lib\\site-packages\\pip\\_internal\\cli\\base_command.py\", line 189, in _main\n",
      "    status = self.run(options, args)\n",
      "  File \"C:\\ProgramData\\Anaconda3\\lib\\site-packages\\pip\\_internal\\cli\\req_command.py\", line 178, in wrapper\n",
      "Note: you may need to restart the kernel to use updated packages.\n"
     ]
    },
    {
     "name": "stderr",
     "output_type": "stream",
     "text": [
      "ERROR: You must give at least one requirement to install (see \"pip help install\")\n"
     ]
    },
    {
     "name": "stdout",
     "output_type": "stream",
     "text": [
      "    return func(self, options, args)\n",
      "  File \"C:\\ProgramData\\Anaconda3\\lib\\site-packages\\pip\\_internal\\commands\\install.py\", line 287, in run\n",
      "    reqs = self.get_requirements(args, options, finder, session)\n",
      "  File \"C:\\ProgramData\\Anaconda3\\lib\\site-packages\\pip\\_internal\\cli\\req_command.py\", line 381, in get_requirements\n",
      "    raise CommandError(\n",
      "pip._internal.exceptions.CommandError: You must give at least one requirement to install (see \"pip help install\")\n",
      "Removed build tracker: 'C:\\\\Users\\\\Abhi0618\\\\AppData\\\\Local\\\\Temp\\\\pip-req-tracker-mufqmcea'\n"
     ]
    }
   ],
   "source": [
    "pip -v install"
   ]
  },
  {
   "cell_type": "code",
   "execution_count": 12,
   "id": "ebb740af",
   "metadata": {},
   "outputs": [],
   "source": [
    "query=\"\"\"LOAD CSV WITH HEADERS FROM'file:///DB.CSV'  as f1\n",
    "    CREATE (N:PAPER{TITLE:f1.Title, DOI:f1.DOI,Cited_By:f1.Cited, Year:f1.Year, Link:f1.Link, Abstract: f1.Abstract})\n",
    "    CREATE (A:Author1{Author1_name:f1.Author1})\n",
    "    CREATE (B:Author2{Author2_name:f1.Author2})\n",
    "    CREATE (C:Author3{Author3_name:f1.Author3})\n",
    "    CREATE (D:Author4{Author4_name:f1.Author4})\n",
    "    CREATE (E:Author5{Author5_name:f1.Author5})\n",
    "    CREATE (F:Author5{Author6_name:f1.Author6})\n",
    "    CREATE (G:Author_Keywords{Author_KEYWORDS:f1.`Author Keyword`})\n",
    "    CREATE (H:Index_Keywords{Index_Keywords:f1.`Index Keywords`})\n",
    "    CREATE (I:Refrences{Refrences:f1.Refrences})\n",
    "    \n",
    "    MERGE(A)-[:WROTE]->(N)\n",
    "    MERGE(B)-[:WROTE]->(N)\n",
    "    MERGE(C)-[:WROTE]->(N)\n",
    "    MERGE(D)-[:WROTE]->(N)\n",
    "    MERGE(E)-[:WROTE]->(N)\n",
    "    MERGE(F)-[:WROTE]->(N)\n",
    "    MERGE(N)-[:Author_Keyword]->(G)\n",
    "    MERGE(N)-[:Index_Keyword]->(H)\n",
    "    MERGE(N)-[:Refered_to]->(I)\n",
    "    \n",
    "    \"\"\"\n",
    "    \n",
    "record=session.run(query)"
   ]
  },
  {
   "cell_type": "code",
   "execution_count": null,
   "id": "893648e9",
   "metadata": {},
   "outputs": [],
   "source": []
  },
  {
   "cell_type": "code",
   "execution_count": null,
   "id": "bfd818bb",
   "metadata": {},
   "outputs": [],
   "source": []
  },
  {
   "cell_type": "code",
   "execution_count": null,
   "id": "18455564",
   "metadata": {},
   "outputs": [],
   "source": []
  },
  {
   "cell_type": "code",
   "execution_count": null,
   "id": "35292709",
   "metadata": {},
   "outputs": [],
   "source": []
  },
  {
   "cell_type": "code",
   "execution_count": null,
   "id": "2ab793a1",
   "metadata": {},
   "outputs": [],
   "source": []
  },
  {
   "cell_type": "code",
   "execution_count": null,
   "id": "3ca65fac",
   "metadata": {},
   "outputs": [],
   "source": []
  }
 ],
 "metadata": {
  "kernelspec": {
   "display_name": "Python 3",
   "language": "python",
   "name": "python3"
  },
  "language_info": {
   "codemirror_mode": {
    "name": "ipython",
    "version": 3
   },
   "file_extension": ".py",
   "mimetype": "text/x-python",
   "name": "python",
   "nbconvert_exporter": "python",
   "pygments_lexer": "ipython3",
   "version": "3.8.8"
  }
 },
 "nbformat": 4,
 "nbformat_minor": 5
}
